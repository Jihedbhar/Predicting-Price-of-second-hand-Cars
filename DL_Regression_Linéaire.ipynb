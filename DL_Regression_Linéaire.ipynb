{
 "cells": [
  {
   "cell_type": "code",
   "execution_count": null,
   "metadata": {
    "colab": {
     "base_uri": "https://localhost:8080/"
    },
    "id": "VGhnKxZSnFOU",
    "outputId": "91ece346-d476-4001-f8cf-134b6f1a9f7f"
   },
   "outputs": [
    {
     "data": {
      "text/plain": [
       "'import kagglehub\\n\\n# Download latest version\\npath = kagglehub.dataset_download(\"mayankpatel14/second-hand-used-cars-data-set-linear-regression\")\\n\\nprint(\"Path to dataset files:\", path)'"
      ]
     },
     "execution_count": 8,
     "metadata": {},
     "output_type": "execute_result"
    }
   ],
   "source": [
    "\n",
    "'''import kagglehub\n",
    "\n",
    "# Download latest version\n",
    "path = kagglehub.dataset_download(\"mayankpatel14/second-hand-used-cars-data-set-linear-regression\")\n"
   ]
  },
  {
   "cell_type": "code",
   "execution_count": null,
   "metadata": {},
   "outputs": [],
   "source": []
  },
  {
   "cell_type": "code",
   "execution_count": 9,
   "metadata": {
    "id": "x78NIdB6ozY6"
   },
   "outputs": [],
   "source": [
    "import random\n",
    "import tensorflow as tf\n",
    "import pandas as pd\n",
    "import os\n",
    "import seaborn as sns\n",
    "import numpy as np\n",
    "import matplotlib.pyplot as plt\n",
    "from tensorflow.keras import Sequential\n",
    "from tensorflow.keras.layers import Normalization, Dense, Input\n",
    "from tensorflow.keras.losses import MeanSquaredError, Huber, MeanAbsoluteError\n",
    "from tensorflow.keras.metrics import RootMeanSquaredError\n",
    "from tensorflow.keras.optimizers import Adam\n",
    "from sklearn.metrics import mean_absolute_error, mean_squared_error, r2_score"
   ]
  },
  {
   "cell_type": "code",
   "execution_count": 10,
   "metadata": {
    "colab": {
     "base_uri": "https://localhost:8080/"
    },
    "id": "dQP4MKecndnU",
    "outputId": "f5979542-4966-4b62-d90b-c313f44cd628"
   },
   "outputs": [],
   "source": [
    "\n",
    "#print(\"Files in dataset directory:\", os.listdir(path))"
   ]
  },
  {
   "cell_type": "code",
   "execution_count": 11,
   "metadata": {
    "colab": {
     "base_uri": "https://localhost:8080/"
    },
    "id": "fTqqE6pdnzkv",
    "outputId": "d5c63c99-dd64-448c-c6ec-28482710bd43"
   },
   "outputs": [
    {
     "name": "stdout",
     "output_type": "stream",
     "text": [
      "(1000, 12)\n"
     ]
    }
   ],
   "source": [
    "#dataset_file = os.path.join(path, 'train.csv')  # Update with actual file name\n",
    "\n",
    "\n",
    "# Load the dataset into a pandas DataFrame\n",
    "df = pd.read_csv(\"train.csv\")\n",
    "\n",
    "# Display the first few rows of the dataset\n",
    "print(df.shape)"
   ]
  },
  {
   "cell_type": "code",
   "execution_count": 12,
   "metadata": {
    "id": "Q-akM88WoItS"
   },
   "outputs": [],
   "source": [
    "df.drop(columns=\"v.id\", inplace = True)"
   ]
  },
  {
   "cell_type": "code",
   "execution_count": 13,
   "metadata": {
    "colab": {
     "base_uri": "https://localhost:8080/",
     "height": 206
    },
    "id": "9TSzDEoSoRQq",
    "outputId": "192b6ee7-8010-4f67-f028-76359cda4e1d"
   },
   "outputs": [
    {
     "data": {
      "text/html": [
       "<div>\n",
       "<style scoped>\n",
       "    .dataframe tbody tr th:only-of-type {\n",
       "        vertical-align: middle;\n",
       "    }\n",
       "\n",
       "    .dataframe tbody tr th {\n",
       "        vertical-align: top;\n",
       "    }\n",
       "\n",
       "    .dataframe thead th {\n",
       "        text-align: right;\n",
       "    }\n",
       "</style>\n",
       "<table border=\"1\" class=\"dataframe\">\n",
       "  <thead>\n",
       "    <tr style=\"text-align: right;\">\n",
       "      <th></th>\n",
       "      <th>on road old</th>\n",
       "      <th>on road now</th>\n",
       "      <th>years</th>\n",
       "      <th>km</th>\n",
       "      <th>rating</th>\n",
       "      <th>condition</th>\n",
       "      <th>economy</th>\n",
       "      <th>top speed</th>\n",
       "      <th>hp</th>\n",
       "      <th>torque</th>\n",
       "      <th>current price</th>\n",
       "    </tr>\n",
       "  </thead>\n",
       "  <tbody>\n",
       "    <tr>\n",
       "      <th>0</th>\n",
       "      <td>535651</td>\n",
       "      <td>798186</td>\n",
       "      <td>3</td>\n",
       "      <td>78945</td>\n",
       "      <td>1</td>\n",
       "      <td>2</td>\n",
       "      <td>14</td>\n",
       "      <td>177</td>\n",
       "      <td>73</td>\n",
       "      <td>123</td>\n",
       "      <td>351318.0</td>\n",
       "    </tr>\n",
       "    <tr>\n",
       "      <th>1</th>\n",
       "      <td>591911</td>\n",
       "      <td>861056</td>\n",
       "      <td>6</td>\n",
       "      <td>117220</td>\n",
       "      <td>5</td>\n",
       "      <td>9</td>\n",
       "      <td>9</td>\n",
       "      <td>148</td>\n",
       "      <td>74</td>\n",
       "      <td>95</td>\n",
       "      <td>285001.5</td>\n",
       "    </tr>\n",
       "    <tr>\n",
       "      <th>2</th>\n",
       "      <td>686990</td>\n",
       "      <td>770762</td>\n",
       "      <td>2</td>\n",
       "      <td>132538</td>\n",
       "      <td>2</td>\n",
       "      <td>8</td>\n",
       "      <td>15</td>\n",
       "      <td>181</td>\n",
       "      <td>53</td>\n",
       "      <td>97</td>\n",
       "      <td>215386.0</td>\n",
       "    </tr>\n",
       "    <tr>\n",
       "      <th>3</th>\n",
       "      <td>573999</td>\n",
       "      <td>722381</td>\n",
       "      <td>4</td>\n",
       "      <td>101065</td>\n",
       "      <td>4</td>\n",
       "      <td>3</td>\n",
       "      <td>11</td>\n",
       "      <td>197</td>\n",
       "      <td>54</td>\n",
       "      <td>116</td>\n",
       "      <td>244295.5</td>\n",
       "    </tr>\n",
       "    <tr>\n",
       "      <th>4</th>\n",
       "      <td>691388</td>\n",
       "      <td>811335</td>\n",
       "      <td>6</td>\n",
       "      <td>61559</td>\n",
       "      <td>3</td>\n",
       "      <td>9</td>\n",
       "      <td>12</td>\n",
       "      <td>160</td>\n",
       "      <td>53</td>\n",
       "      <td>105</td>\n",
       "      <td>531114.5</td>\n",
       "    </tr>\n",
       "  </tbody>\n",
       "</table>\n",
       "</div>"
      ],
      "text/plain": [
       "   on road old  on road now  years      km  rating  condition  economy  \\\n",
       "0       535651       798186      3   78945       1          2       14   \n",
       "1       591911       861056      6  117220       5          9        9   \n",
       "2       686990       770762      2  132538       2          8       15   \n",
       "3       573999       722381      4  101065       4          3       11   \n",
       "4       691388       811335      6   61559       3          9       12   \n",
       "\n",
       "   top speed  hp  torque  current price  \n",
       "0        177  73     123       351318.0  \n",
       "1        148  74      95       285001.5  \n",
       "2        181  53      97       215386.0  \n",
       "3        197  54     116       244295.5  \n",
       "4        160  53     105       531114.5  "
      ]
     },
     "execution_count": 13,
     "metadata": {},
     "output_type": "execute_result"
    }
   ],
   "source": [
    "df.head()"
   ]
  },
  {
   "cell_type": "code",
   "execution_count": 14,
   "metadata": {
    "id": "oyijcfckot4o"
   },
   "outputs": [],
   "source": [
    "#sns.pairplot(df.drop([\"on road old\",\"on road now\"], axis = 1))"
   ]
  },
  {
   "cell_type": "code",
   "execution_count": 15,
   "metadata": {
    "colab": {
     "base_uri": "https://localhost:8080/"
    },
    "id": "N0D2pmZypF-e",
    "outputId": "f3523db1-d5c4-4c02-f6fc-fec557a18691"
   },
   "outputs": [
    {
     "name": "stdout",
     "output_type": "stream",
     "text": [
      "tf.Tensor(\n",
      "[[5.356510e+05 7.981860e+05 3.000000e+00 ... 7.300000e+01 1.230000e+02\n",
      "  3.513180e+05]\n",
      " [5.919110e+05 8.610560e+05 6.000000e+00 ... 7.400000e+01 9.500000e+01\n",
      "  2.850015e+05]\n",
      " [6.869900e+05 7.707620e+05 2.000000e+00 ... 5.300000e+01 9.700000e+01\n",
      "  2.153860e+05]\n",
      " ...\n",
      " [6.463440e+05 8.427330e+05 7.000000e+00 ... 1.130000e+02 8.900000e+01\n",
      "  4.058710e+05]\n",
      " [5.355590e+05 7.324390e+05 2.000000e+00 ... 1.120000e+02 1.280000e+02\n",
      "  7.439800e+04]\n",
      " [5.901050e+05 7.797430e+05 5.000000e+00 ... 9.900000e+01 9.600000e+01\n",
      "  4.149385e+05]], shape=(1000, 11), dtype=float32)\n"
     ]
    }
   ],
   "source": [
    "tensor_data = tf.constant(df)\n",
    "tensor_data = tf.cast(tensor_data, tf.float32)\n",
    "print(tensor_data)\n"
   ]
  },
  {
   "cell_type": "code",
   "execution_count": 16,
   "metadata": {
    "colab": {
     "base_uri": "https://localhost:8080/"
    },
    "id": "COpvRD3arZgt",
    "outputId": "269a7084-5e75-4fe1-84ce-8049d373b72c"
   },
   "outputs": [
    {
     "name": "stdout",
     "output_type": "stream",
     "text": [
      "tf.Tensor(\n",
      "[[5.424960e+05 7.406940e+05 5.000000e+00 1.402270e+05 5.000000e+00\n",
      "  1.000000e+00 1.500000e+01 1.600000e+02 1.070000e+02 1.250000e+02\n",
      "  8.099600e+04]\n",
      " [6.384440e+05 8.490750e+05 7.000000e+00 1.367860e+05 5.000000e+00\n",
      "  5.000000e+00 9.000000e+00 1.740000e+02 6.800000e+01 1.350000e+02\n",
      "  1.915660e+05]\n",
      " [5.154780e+05 7.275560e+05 7.000000e+00 1.311740e+05 2.000000e+00\n",
      "  5.000000e+00 1.000000e+01 1.950000e+02 5.300000e+01 1.000000e+02\n",
      "  9.022000e+04]\n",
      " [6.305730e+05 7.607870e+05 5.000000e+00 1.416830e+05 3.000000e+00\n",
      "  8.000000e+00 1.100000e+01 1.850000e+02 5.100000e+01 1.090000e+02\n",
      "  1.441240e+05]\n",
      " [6.530990e+05 7.977710e+05 2.000000e+00 8.830600e+04 2.000000e+00\n",
      "  1.000000e+01 8.000000e+00 1.960000e+02 7.600000e+01 1.210000e+02\n",
      "  4.224395e+05]], shape=(5, 11), dtype=float32)\n"
     ]
    }
   ],
   "source": [
    "tensor_data = tf.random.shuffle(tensor_data)\n",
    "print(tensor_data[:5,])"
   ]
  },
  {
   "cell_type": "code",
   "execution_count": 17,
   "metadata": {
    "colab": {
     "base_uri": "https://localhost:8080/"
    },
    "id": "b8k8wlyksOhk",
    "outputId": "c3bbcf29-b36c-42e9-cfd8-cd12077ea14b"
   },
   "outputs": [
    {
     "name": "stdout",
     "output_type": "stream",
     "text": [
      "(1000, 8)\n"
     ]
    }
   ],
   "source": [
    "X = tensor_data[:,2:-1]\n",
    "print(X.shape)"
   ]
  },
  {
   "cell_type": "code",
   "execution_count": 18,
   "metadata": {
    "colab": {
     "base_uri": "https://localhost:8080/"
    },
    "id": "5GmqsvUvsqLC",
    "outputId": "b3f07f9f-1dd6-4bfe-9284-91ca12d52ef1"
   },
   "outputs": [
    {
     "name": "stdout",
     "output_type": "stream",
     "text": [
      "(1000, 1)\n"
     ]
    }
   ],
   "source": [
    "Y = tensor_data[:,-1]\n",
    "Y = tf.expand_dims(Y,axis = -1)\n",
    "print(Y.shape)"
   ]
  },
  {
   "cell_type": "code",
   "execution_count": 19,
   "metadata": {
    "id": "8bk3n30HMTKB"
   },
   "outputs": [],
   "source": [
    "np.random.seed(42)\n",
    "random.seed(42)\n",
    "tf.random.set_seed(42)"
   ]
  },
  {
   "cell_type": "code",
   "execution_count": 20,
   "metadata": {
    "id": "flLaEii_3btD"
   },
   "outputs": [],
   "source": [
    "TRAIN_RATIO = 0.8\n",
    "VAL_RATIO = 0.1\n",
    "TEST_RATIO = 0.1\n",
    "DATASET_SIZE = len(X)"
   ]
  },
  {
   "cell_type": "code",
   "execution_count": 21,
   "metadata": {
    "colab": {
     "base_uri": "https://localhost:8080/"
    },
    "id": "Bj2nCS0o3n7l",
    "outputId": "d008939a-5586-45bc-d827-6a86badaafdf"
   },
   "outputs": [
    {
     "name": "stdout",
     "output_type": "stream",
     "text": [
      "(800, 8)\n",
      "(800, 1)\n"
     ]
    }
   ],
   "source": [
    "X_train = X[:int(DATASET_SIZE*TRAIN_RATIO)]\n",
    "y_train = Y[:int(DATASET_SIZE*TRAIN_RATIO)]\n",
    "print(X_train.shape)\n",
    "print(y_train.shape)"
   ]
  },
  {
   "cell_type": "code",
   "execution_count": 22,
   "metadata": {
    "id": "NVW0JRlD3v2Y"
   },
   "outputs": [],
   "source": [
    "train_dataset = tf.data.Dataset.from_tensor_slices((X_train, y_train))\n",
    "train_dataset = train_dataset.shuffle(buffer_size = 8, reshuffle_each_iteration = True).batch(32).prefetch(tf.data.AUTOTUNE)\n"
   ]
  },
  {
   "cell_type": "code",
   "execution_count": 23,
   "metadata": {
    "colab": {
     "base_uri": "https://localhost:8080/"
    },
    "id": "dveA1M7n6YAD",
    "outputId": "dd9a3f62-d3b0-4d4e-eb72-1c9cd52768f4"
   },
   "outputs": [
    {
     "name": "stdout",
     "output_type": "stream",
     "text": [
      "tf.Tensor(\n",
      "[[5.00000e+00 1.41683e+05 3.00000e+00 8.00000e+00 1.10000e+01 1.85000e+02\n",
      "  5.10000e+01 1.09000e+02]\n",
      " [7.00000e+00 1.31174e+05 2.00000e+00 5.00000e+00 1.00000e+01 1.95000e+02\n",
      "  5.30000e+01 1.00000e+02]\n",
      " [7.00000e+00 1.36786e+05 5.00000e+00 5.00000e+00 9.00000e+00 1.74000e+02\n",
      "  6.80000e+01 1.35000e+02]\n",
      " [7.00000e+00 7.92200e+04 1.00000e+00 8.00000e+00 1.50000e+01 2.00000e+02\n",
      "  1.16000e+02 9.00000e+01]\n",
      " [6.00000e+00 1.45066e+05 4.00000e+00 2.00000e+00 1.50000e+01 1.45000e+02\n",
      "  1.18000e+02 1.20000e+02]\n",
      " [5.00000e+00 1.40227e+05 5.00000e+00 1.00000e+00 1.50000e+01 1.60000e+02\n",
      "  1.07000e+02 1.25000e+02]\n",
      " [4.00000e+00 5.84270e+04 5.00000e+00 7.00000e+00 1.30000e+01 1.81000e+02\n",
      "  5.30000e+01 1.28000e+02]\n",
      " [4.00000e+00 1.28177e+05 2.00000e+00 1.00000e+01 1.50000e+01 1.91000e+02\n",
      "  5.20000e+01 1.06000e+02]\n",
      " [2.00000e+00 1.09453e+05 5.00000e+00 4.00000e+00 1.30000e+01 1.59000e+02\n",
      "  9.90000e+01 1.05000e+02]\n",
      " [6.00000e+00 1.49191e+05 1.00000e+00 3.00000e+00 8.00000e+00 1.84000e+02\n",
      "  1.00000e+02 1.03000e+02]\n",
      " [2.00000e+00 7.49050e+04 4.00000e+00 6.00000e+00 1.30000e+01 1.69000e+02\n",
      "  7.20000e+01 9.70000e+01]\n",
      " [3.00000e+00 5.24980e+04 1.00000e+00 5.00000e+00 1.20000e+01 1.37000e+02\n",
      "  7.90000e+01 9.50000e+01]\n",
      " [2.00000e+00 1.18682e+05 1.00000e+00 1.00000e+00 1.50000e+01 1.67000e+02\n",
      "  8.30000e+01 9.50000e+01]\n",
      " [7.00000e+00 6.30980e+04 3.00000e+00 2.00000e+00 1.50000e+01 1.87000e+02\n",
      "  9.80000e+01 1.31000e+02]\n",
      " [6.00000e+00 1.46627e+05 2.00000e+00 3.00000e+00 1.20000e+01 1.49000e+02\n",
      "  6.10000e+01 9.00000e+01]\n",
      " [2.00000e+00 8.83060e+04 2.00000e+00 1.00000e+01 8.00000e+00 1.96000e+02\n",
      "  7.60000e+01 1.21000e+02]\n",
      " [5.00000e+00 6.60280e+04 5.00000e+00 9.00000e+00 1.20000e+01 1.77000e+02\n",
      "  5.70000e+01 1.26000e+02]\n",
      " [3.00000e+00 6.47510e+04 5.00000e+00 1.00000e+00 1.10000e+01 1.76000e+02\n",
      "  6.80000e+01 7.00000e+01]\n",
      " [4.00000e+00 1.01263e+05 5.00000e+00 3.00000e+00 9.00000e+00 1.68000e+02\n",
      "  5.90000e+01 1.29000e+02]\n",
      " [2.00000e+00 1.38175e+05 1.00000e+00 5.00000e+00 1.00000e+01 1.93000e+02\n",
      "  9.30000e+01 1.00000e+02]\n",
      " [2.00000e+00 7.02460e+04 4.00000e+00 2.00000e+00 1.30000e+01 1.87000e+02\n",
      "  1.18000e+02 1.04000e+02]\n",
      " [3.00000e+00 8.21910e+04 5.00000e+00 1.00000e+00 9.00000e+00 1.39000e+02\n",
      "  1.07000e+02 9.90000e+01]\n",
      " [6.00000e+00 6.81880e+04 4.00000e+00 7.00000e+00 1.00000e+01 1.86000e+02\n",
      "  8.60000e+01 1.35000e+02]\n",
      " [6.00000e+00 1.24610e+05 3.00000e+00 1.00000e+00 1.10000e+01 1.59000e+02\n",
      "  7.10000e+01 1.27000e+02]\n",
      " [4.00000e+00 9.81730e+04 2.00000e+00 8.00000e+00 1.20000e+01 1.84000e+02\n",
      "  7.70000e+01 1.22000e+02]\n",
      " [7.00000e+00 1.05139e+05 5.00000e+00 3.00000e+00 1.10000e+01 1.97000e+02\n",
      "  1.14000e+02 8.70000e+01]\n",
      " [7.00000e+00 9.89310e+04 4.00000e+00 8.00000e+00 1.20000e+01 1.62000e+02\n",
      "  1.04000e+02 7.40000e+01]\n",
      " [4.00000e+00 5.98060e+04 2.00000e+00 2.00000e+00 8.00000e+00 1.56000e+02\n",
      "  5.90000e+01 1.26000e+02]\n",
      " [3.00000e+00 9.55130e+04 2.00000e+00 3.00000e+00 8.00000e+00 1.53000e+02\n",
      "  1.18000e+02 9.60000e+01]\n",
      " [5.00000e+00 6.34480e+04 1.00000e+00 9.00000e+00 1.30000e+01 1.73000e+02\n",
      "  1.00000e+02 1.38000e+02]\n",
      " [2.00000e+00 7.16460e+04 3.00000e+00 5.00000e+00 1.30000e+01 1.67000e+02\n",
      "  6.10000e+01 1.36000e+02]\n",
      " [6.00000e+00 1.00726e+05 4.00000e+00 7.00000e+00 1.20000e+01 1.87000e+02\n",
      "  9.10000e+01 1.21000e+02]], shape=(32, 8), dtype=float32) tf.Tensor(\n",
      "[[144124. ]\n",
      " [ 90220. ]\n",
      " [191566. ]\n",
      " [420075.5]\n",
      " [111175.5]\n",
      " [ 80996. ]\n",
      " [503307.5]\n",
      " [184571. ]\n",
      " [274075. ]\n",
      " [ 28226.5]\n",
      " [338141.5]\n",
      " [458833.5]\n",
      " [190949. ]\n",
      " [499185.5]\n",
      " [ 93713. ]\n",
      " [422439.5]\n",
      " [382676. ]\n",
      " [469084.5]\n",
      " [348000. ]\n",
      " [153375.5]\n",
      " [409312.5]\n",
      " [383570.5]\n",
      " [408405.5]\n",
      " [159647. ]\n",
      " [302878.5]\n",
      " [291815.5]\n",
      " [351704.5]\n",
      " [441863.5]\n",
      " [343416.5]\n",
      " [508087. ]\n",
      " [387089. ]\n",
      " [316387.5]], shape=(32, 1), dtype=float32)\n"
     ]
    }
   ],
   "source": [
    "for x,y in train_dataset:\n",
    "  print(x,y)\n",
    "  break"
   ]
  },
  {
   "cell_type": "code",
   "execution_count": 24,
   "metadata": {
    "colab": {
     "base_uri": "https://localhost:8080/"
    },
    "id": "azHhqHPG4kiI",
    "outputId": "34642d2f-979b-43fc-d74a-d0b7673d991b"
   },
   "outputs": [
    {
     "name": "stdout",
     "output_type": "stream",
     "text": [
      "(100, 8)\n",
      "(100, 1)\n"
     ]
    }
   ],
   "source": [
    "\n",
    "X_val = X[int(DATASET_SIZE*TRAIN_RATIO):int(DATASET_SIZE*(TRAIN_RATIO+VAL_RATIO))]\n",
    "y_val = Y[int(DATASET_SIZE*TRAIN_RATIO):int(DATASET_SIZE*(TRAIN_RATIO+VAL_RATIO))]\n",
    "print(X_val.shape)\n",
    "print(y_val.shape)"
   ]
  },
  {
   "cell_type": "code",
   "execution_count": 25,
   "metadata": {
    "id": "WQURdNOP4oZ_"
   },
   "outputs": [],
   "source": [
    "val_dataset = tf.data.Dataset.from_tensor_slices((X_val, y_val))\n",
    "val_dataset = val_dataset = val_dataset.batch(32).prefetch(tf.data.AUTOTUNE)\n"
   ]
  },
  {
   "cell_type": "code",
   "execution_count": 26,
   "metadata": {
    "colab": {
     "base_uri": "https://localhost:8080/"
    },
    "id": "1Z0qh1sW4r-l",
    "outputId": "f92278d3-346f-4727-9705-a48936450fc9"
   },
   "outputs": [
    {
     "name": "stdout",
     "output_type": "stream",
     "text": [
      "(100, 8)\n",
      "(100, 1)\n"
     ]
    }
   ],
   "source": [
    "X_test = X[int(DATASET_SIZE*(TRAIN_RATIO+VAL_RATIO)):]\n",
    "y_test = Y[int(DATASET_SIZE*(TRAIN_RATIO+VAL_RATIO)):]\n",
    "print(X_test.shape)\n",
    "print(y_test.shape)"
   ]
  },
  {
   "cell_type": "code",
   "execution_count": 27,
   "metadata": {
    "id": "Z2ZWIMiH4vOB"
   },
   "outputs": [],
   "source": [
    "test_dataset = tf.data.Dataset.from_tensor_slices((X_test, y_test))\n",
    "test_dataset = test_dataset.batch(32).prefetch(tf.data.AUTOTUNE)"
   ]
  },
  {
   "cell_type": "code",
   "execution_count": 28,
   "metadata": {
    "colab": {
     "base_uri": "https://localhost:8080/"
    },
    "id": "9D3kNkT6sti8",
    "outputId": "40265f70-e897-40e9-b644-66bd34061967"
   },
   "outputs": [],
   "source": [
    "normalizer = Normalization()\n",
    "normalizer.adapt(X)\n",
    "normalizer(X)[:5]\n",
    "np.save('normalizer_params.npy', {'mean': normalizer.mean.numpy(), 'variance': normalizer.variance.numpy()})"
   ]
  },
  {
   "cell_type": "code",
   "execution_count": 29,
   "metadata": {
    "colab": {
     "base_uri": "https://localhost:8080/"
    },
    "id": "BiZ5SJKNvU3i",
    "outputId": "7b34901a-69c1-43aa-f5af-61208af172dc"
   },
   "outputs": [
    {
     "name": "stdout",
     "output_type": "stream",
     "text": [
      "tf.Tensor(\n",
      "[[5.00000e+00 1.40227e+05 5.00000e+00 1.00000e+00 1.50000e+01 1.60000e+02\n",
      "  1.07000e+02 1.25000e+02]\n",
      " [7.00000e+00 1.36786e+05 5.00000e+00 5.00000e+00 9.00000e+00 1.74000e+02\n",
      "  6.80000e+01 1.35000e+02]\n",
      " [7.00000e+00 1.31174e+05 2.00000e+00 5.00000e+00 1.00000e+01 1.95000e+02\n",
      "  5.30000e+01 1.00000e+02]\n",
      " [5.00000e+00 1.41683e+05 3.00000e+00 8.00000e+00 1.10000e+01 1.85000e+02\n",
      "  5.10000e+01 1.09000e+02]\n",
      " [2.00000e+00 8.83060e+04 2.00000e+00 1.00000e+01 8.00000e+00 1.96000e+02\n",
      "  7.60000e+01 1.21000e+02]], shape=(5, 8), dtype=float32)\n"
     ]
    }
   ],
   "source": [
    "print(X[:5])"
   ]
  },
  {
   "cell_type": "markdown",
   "metadata": {
    "id": "vKMU-U_20m_0"
   },
   "source": [
    "#Model creation and training"
   ]
  },
  {
   "cell_type": "code",
   "execution_count": 30,
   "metadata": {
    "id": "xnG0WRsd-SvQ"
   },
   "outputs": [],
   "source": [
    "model = tf.keras.Sequential([\n",
    "                             Input(shape = (X_train.shape[1],)),\n",
    "                             normalizer,\n",
    "                             Dense(128, activation = \"relu\"),\n",
    "                             Dense(128, activation = \"relu\"),\n",
    "                             Dense(128, activation = \"relu\"),\n",
    "                             Dense(1),\n",
    "])"
   ]
  },
  {
   "cell_type": "code",
   "execution_count": 31,
   "metadata": {
    "colab": {
     "base_uri": "https://localhost:8080/",
     "height": 1000
    },
    "id": "f5htbgrx4eZz",
    "outputId": "157ba813-79aa-485f-a506-5640e0d199cf"
   },
   "outputs": [
    {
     "name": "stdout",
     "output_type": "stream",
     "text": [
      "You must install graphviz (see instructions at https://graphviz.gitlab.io/download/) for `plot_model` to work.\n"
     ]
    }
   ],
   "source": [
    "\n",
    "tf.keras.utils.plot_model(model, to_file = \"model.png\", show_shapes=True)\n"
   ]
  },
  {
   "cell_type": "code",
   "execution_count": 32,
   "metadata": {
    "id": "NVizi1wo98IF"
   },
   "outputs": [],
   "source": [
    "model.compile(optimizer = Adam(learning_rate = 0.1),\n",
    "              loss = MeanAbsoluteError(),\n",
    "              metrics = [RootMeanSquaredError()])"
   ]
  },
  {
   "cell_type": "code",
   "execution_count": 33,
   "metadata": {
    "colab": {
     "base_uri": "https://localhost:8080/"
    },
    "id": "YGiN3eFm-mKK",
    "outputId": "e837492e-1c1a-4bc6-ef9b-225a03b2bd4c"
   },
   "outputs": [
    {
     "name": "stdout",
     "output_type": "stream",
     "text": [
      "Epoch 1/100\n",
      "\u001b[1m25/25\u001b[0m \u001b[32m━━━━━━━━━━━━━━━━━━━━\u001b[0m\u001b[37m\u001b[0m \u001b[1m3s\u001b[0m 12ms/step - loss: 223153.7812 - root_mean_squared_error: 260735.7344 - val_loss: 71526.7188 - val_root_mean_squared_error: 85952.3672\n",
      "Epoch 2/100\n",
      "\u001b[1m25/25\u001b[0m \u001b[32m━━━━━━━━━━━━━━━━━━━━\u001b[0m\u001b[37m\u001b[0m \u001b[1m0s\u001b[0m 3ms/step - loss: 55247.1289 - root_mean_squared_error: 68384.3203 - val_loss: 54796.8359 - val_root_mean_squared_error: 66564.9219\n",
      "Epoch 3/100\n",
      "\u001b[1m25/25\u001b[0m \u001b[32m━━━━━━━━━━━━━━━━━━━━\u001b[0m\u001b[37m\u001b[0m \u001b[1m0s\u001b[0m 3ms/step - loss: 41839.7734 - root_mean_squared_error: 52708.5586 - val_loss: 43725.6836 - val_root_mean_squared_error: 57033.5703\n",
      "Epoch 4/100\n",
      "\u001b[1m25/25\u001b[0m \u001b[32m━━━━━━━━━━━━━━━━━━━━\u001b[0m\u001b[37m\u001b[0m \u001b[1m0s\u001b[0m 3ms/step - loss: 43388.7188 - root_mean_squared_error: 54142.8477 - val_loss: 45325.2031 - val_root_mean_squared_error: 56930.4141\n",
      "Epoch 5/100\n",
      "\u001b[1m25/25\u001b[0m \u001b[32m━━━━━━━━━━━━━━━━━━━━\u001b[0m\u001b[37m\u001b[0m \u001b[1m0s\u001b[0m 3ms/step - loss: 43614.1133 - root_mean_squared_error: 55543.6094 - val_loss: 44413.0156 - val_root_mean_squared_error: 57050.1211\n",
      "Epoch 6/100\n",
      "\u001b[1m25/25\u001b[0m \u001b[32m━━━━━━━━━━━━━━━━━━━━\u001b[0m\u001b[37m\u001b[0m \u001b[1m0s\u001b[0m 3ms/step - loss: 41979.4258 - root_mean_squared_error: 53060.7695 - val_loss: 51534.6992 - val_root_mean_squared_error: 63408.1992\n",
      "Epoch 7/100\n",
      "\u001b[1m25/25\u001b[0m \u001b[32m━━━━━━━━━━━━━━━━━━━━\u001b[0m\u001b[37m\u001b[0m \u001b[1m0s\u001b[0m 3ms/step - loss: 42253.5625 - root_mean_squared_error: 52312.3711 - val_loss: 56140.6914 - val_root_mean_squared_error: 70274.2812\n",
      "Epoch 8/100\n",
      "\u001b[1m25/25\u001b[0m \u001b[32m━━━━━━━━━━━━━━━━━━━━\u001b[0m\u001b[37m\u001b[0m \u001b[1m0s\u001b[0m 3ms/step - loss: 44020.2148 - root_mean_squared_error: 54890.1875 - val_loss: 50442.9805 - val_root_mean_squared_error: 63338.6250\n",
      "Epoch 9/100\n",
      "\u001b[1m25/25\u001b[0m \u001b[32m━━━━━━━━━━━━━━━━━━━━\u001b[0m\u001b[37m\u001b[0m \u001b[1m0s\u001b[0m 3ms/step - loss: 44408.5156 - root_mean_squared_error: 55018.7695 - val_loss: 44832.8906 - val_root_mean_squared_error: 57428.1328\n",
      "Epoch 10/100\n",
      "\u001b[1m25/25\u001b[0m \u001b[32m━━━━━━━━━━━━━━━━━━━━\u001b[0m\u001b[37m\u001b[0m \u001b[1m0s\u001b[0m 3ms/step - loss: 40753.8008 - root_mean_squared_error: 51028.9180 - val_loss: 46498.0898 - val_root_mean_squared_error: 57336.0312\n",
      "Epoch 11/100\n",
      "\u001b[1m25/25\u001b[0m \u001b[32m━━━━━━━━━━━━━━━━━━━━\u001b[0m\u001b[37m\u001b[0m \u001b[1m0s\u001b[0m 3ms/step - loss: 39455.3164 - root_mean_squared_error: 49089.7578 - val_loss: 46983.3086 - val_root_mean_squared_error: 56653.8555\n",
      "Epoch 12/100\n",
      "\u001b[1m25/25\u001b[0m \u001b[32m━━━━━━━━━━━━━━━━━━━━\u001b[0m\u001b[37m\u001b[0m \u001b[1m0s\u001b[0m 3ms/step - loss: 40499.6094 - root_mean_squared_error: 50331.2344 - val_loss: 47946.3359 - val_root_mean_squared_error: 58233.4375\n",
      "Epoch 13/100\n",
      "\u001b[1m25/25\u001b[0m \u001b[32m━━━━━━━━━━━━━━━━━━━━\u001b[0m\u001b[37m\u001b[0m \u001b[1m0s\u001b[0m 3ms/step - loss: 39175.7852 - root_mean_squared_error: 48510.9922 - val_loss: 45847.8789 - val_root_mean_squared_error: 56923.6992\n",
      "Epoch 14/100\n",
      "\u001b[1m25/25\u001b[0m \u001b[32m━━━━━━━━━━━━━━━━━━━━\u001b[0m\u001b[37m\u001b[0m \u001b[1m0s\u001b[0m 3ms/step - loss: 40853.4844 - root_mean_squared_error: 51449.8359 - val_loss: 46409.3086 - val_root_mean_squared_error: 56215.1680\n",
      "Epoch 15/100\n",
      "\u001b[1m25/25\u001b[0m \u001b[32m━━━━━━━━━━━━━━━━━━━━\u001b[0m\u001b[37m\u001b[0m \u001b[1m0s\u001b[0m 3ms/step - loss: 41219.3281 - root_mean_squared_error: 51782.5234 - val_loss: 46186.1094 - val_root_mean_squared_error: 55984.5781\n",
      "Epoch 16/100\n",
      "\u001b[1m25/25\u001b[0m \u001b[32m━━━━━━━━━━━━━━━━━━━━\u001b[0m\u001b[37m\u001b[0m \u001b[1m0s\u001b[0m 3ms/step - loss: 45759.2852 - root_mean_squared_error: 57211.4062 - val_loss: 52823.0703 - val_root_mean_squared_error: 65975.3906\n",
      "Epoch 17/100\n",
      "\u001b[1m25/25\u001b[0m \u001b[32m━━━━━━━━━━━━━━━━━━━━\u001b[0m\u001b[37m\u001b[0m \u001b[1m0s\u001b[0m 3ms/step - loss: 43064.6641 - root_mean_squared_error: 53800.2148 - val_loss: 47865.3867 - val_root_mean_squared_error: 59008.1680\n",
      "Epoch 18/100\n",
      "\u001b[1m25/25\u001b[0m \u001b[32m━━━━━━━━━━━━━━━━━━━━\u001b[0m\u001b[37m\u001b[0m \u001b[1m0s\u001b[0m 4ms/step - loss: 38710.4766 - root_mean_squared_error: 48702.0039 - val_loss: 45612.0898 - val_root_mean_squared_error: 55875.2188\n",
      "Epoch 19/100\n",
      "\u001b[1m25/25\u001b[0m \u001b[32m━━━━━━━━━━━━━━━━━━━━\u001b[0m\u001b[37m\u001b[0m \u001b[1m0s\u001b[0m 3ms/step - loss: 37424.4414 - root_mean_squared_error: 46862.6992 - val_loss: 46322.7461 - val_root_mean_squared_error: 55669.5469\n",
      "Epoch 20/100\n",
      "\u001b[1m25/25\u001b[0m \u001b[32m━━━━━━━━━━━━━━━━━━━━\u001b[0m\u001b[37m\u001b[0m \u001b[1m0s\u001b[0m 3ms/step - loss: 37453.1484 - root_mean_squared_error: 47073.0156 - val_loss: 47367.2891 - val_root_mean_squared_error: 57500.0898\n",
      "Epoch 21/100\n",
      "\u001b[1m25/25\u001b[0m \u001b[32m━━━━━━━━━━━━━━━━━━━━\u001b[0m\u001b[37m\u001b[0m \u001b[1m0s\u001b[0m 3ms/step - loss: 39032.2852 - root_mean_squared_error: 48619.4570 - val_loss: 49658.0586 - val_root_mean_squared_error: 60591.9492\n",
      "Epoch 22/100\n",
      "\u001b[1m25/25\u001b[0m \u001b[32m━━━━━━━━━━━━━━━━━━━━\u001b[0m\u001b[37m\u001b[0m \u001b[1m0s\u001b[0m 3ms/step - loss: 39934.7070 - root_mean_squared_error: 49203.3086 - val_loss: 53361.5742 - val_root_mean_squared_error: 64825.0977\n",
      "Epoch 23/100\n",
      "\u001b[1m25/25\u001b[0m \u001b[32m━━━━━━━━━━━━━━━━━━━━\u001b[0m\u001b[37m\u001b[0m \u001b[1m0s\u001b[0m 3ms/step - loss: 38984.2969 - root_mean_squared_error: 49059.1523 - val_loss: 47259.5352 - val_root_mean_squared_error: 57774.9648\n",
      "Epoch 24/100\n",
      "\u001b[1m25/25\u001b[0m \u001b[32m━━━━━━━━━━━━━━━━━━━━\u001b[0m\u001b[37m\u001b[0m \u001b[1m0s\u001b[0m 3ms/step - loss: 37429.2383 - root_mean_squared_error: 46950.0117 - val_loss: 42451.3438 - val_root_mean_squared_error: 53271.5664\n",
      "Epoch 25/100\n",
      "\u001b[1m25/25\u001b[0m \u001b[32m━━━━━━━━━━━━━━━━━━━━\u001b[0m\u001b[37m\u001b[0m \u001b[1m0s\u001b[0m 3ms/step - loss: 36834.3242 - root_mean_squared_error: 45990.4102 - val_loss: 46498.1602 - val_root_mean_squared_error: 56683.5547\n",
      "Epoch 26/100\n",
      "\u001b[1m25/25\u001b[0m \u001b[32m━━━━━━━━━━━━━━━━━━━━\u001b[0m\u001b[37m\u001b[0m \u001b[1m0s\u001b[0m 3ms/step - loss: 37704.4805 - root_mean_squared_error: 46957.8633 - val_loss: 59287.4688 - val_root_mean_squared_error: 73445.1953\n",
      "Epoch 27/100\n",
      "\u001b[1m25/25\u001b[0m \u001b[32m━━━━━━━━━━━━━━━━━━━━\u001b[0m\u001b[37m\u001b[0m \u001b[1m0s\u001b[0m 3ms/step - loss: 41209.6914 - root_mean_squared_error: 51679.0508 - val_loss: 65289.2891 - val_root_mean_squared_error: 78943.8203\n",
      "Epoch 28/100\n",
      "\u001b[1m25/25\u001b[0m \u001b[32m━━━━━━━━━━━━━━━━━━━━\u001b[0m\u001b[37m\u001b[0m \u001b[1m0s\u001b[0m 3ms/step - loss: 47942.7148 - root_mean_squared_error: 58745.8242 - val_loss: 42847.3906 - val_root_mean_squared_error: 53036.0000\n",
      "Epoch 29/100\n",
      "\u001b[1m25/25\u001b[0m \u001b[32m━━━━━━━━━━━━━━━━━━━━\u001b[0m\u001b[37m\u001b[0m \u001b[1m0s\u001b[0m 3ms/step - loss: 36107.8789 - root_mean_squared_error: 45392.9922 - val_loss: 44135.9414 - val_root_mean_squared_error: 55007.5469\n",
      "Epoch 30/100\n",
      "\u001b[1m25/25\u001b[0m \u001b[32m━━━━━━━━━━━━━━━━━━━━\u001b[0m\u001b[37m\u001b[0m \u001b[1m0s\u001b[0m 3ms/step - loss: 37289.2383 - root_mean_squared_error: 46770.7539 - val_loss: 48442.0781 - val_root_mean_squared_error: 59429.9414\n",
      "Epoch 31/100\n",
      "\u001b[1m25/25\u001b[0m \u001b[32m━━━━━━━━━━━━━━━━━━━━\u001b[0m\u001b[37m\u001b[0m \u001b[1m0s\u001b[0m 3ms/step - loss: 37020.9883 - root_mean_squared_error: 46506.1211 - val_loss: 48935.2305 - val_root_mean_squared_error: 59261.1055\n",
      "Epoch 32/100\n",
      "\u001b[1m25/25\u001b[0m \u001b[32m━━━━━━━━━━━━━━━━━━━━\u001b[0m\u001b[37m\u001b[0m \u001b[1m0s\u001b[0m 3ms/step - loss: 37106.4766 - root_mean_squared_error: 46736.8906 - val_loss: 59561.5312 - val_root_mean_squared_error: 73186.3906\n",
      "Epoch 33/100\n",
      "\u001b[1m25/25\u001b[0m \u001b[32m━━━━━━━━━━━━━━━━━━━━\u001b[0m\u001b[37m\u001b[0m \u001b[1m0s\u001b[0m 4ms/step - loss: 39212.8477 - root_mean_squared_error: 49018.9570 - val_loss: 43933.9648 - val_root_mean_squared_error: 54994.6250\n",
      "Epoch 34/100\n",
      "\u001b[1m25/25\u001b[0m \u001b[32m━━━━━━━━━━━━━━━━━━━━\u001b[0m\u001b[37m\u001b[0m \u001b[1m0s\u001b[0m 3ms/step - loss: 37120.0820 - root_mean_squared_error: 47226.2070 - val_loss: 42615.6055 - val_root_mean_squared_error: 53345.3477\n",
      "Epoch 35/100\n",
      "\u001b[1m25/25\u001b[0m \u001b[32m━━━━━━━━━━━━━━━━━━━━\u001b[0m\u001b[37m\u001b[0m \u001b[1m0s\u001b[0m 3ms/step - loss: 37929.4609 - root_mean_squared_error: 48340.4258 - val_loss: 51130.0742 - val_root_mean_squared_error: 61605.0820\n",
      "Epoch 36/100\n",
      "\u001b[1m25/25\u001b[0m \u001b[32m━━━━━━━━━━━━━━━━━━━━\u001b[0m\u001b[37m\u001b[0m \u001b[1m0s\u001b[0m 3ms/step - loss: 40810.9219 - root_mean_squared_error: 51330.2852 - val_loss: 44665.4062 - val_root_mean_squared_error: 55883.2617\n",
      "Epoch 37/100\n",
      "\u001b[1m25/25\u001b[0m \u001b[32m━━━━━━━━━━━━━━━━━━━━\u001b[0m\u001b[37m\u001b[0m \u001b[1m0s\u001b[0m 3ms/step - loss: 38368.0938 - root_mean_squared_error: 47443.4727 - val_loss: 42796.9766 - val_root_mean_squared_error: 52876.6172\n",
      "Epoch 38/100\n",
      "\u001b[1m25/25\u001b[0m \u001b[32m━━━━━━━━━━━━━━━━━━━━\u001b[0m\u001b[37m\u001b[0m \u001b[1m0s\u001b[0m 3ms/step - loss: 35456.4727 - root_mean_squared_error: 44348.6523 - val_loss: 47815.9531 - val_root_mean_squared_error: 57842.8398\n",
      "Epoch 39/100\n",
      "\u001b[1m25/25\u001b[0m \u001b[32m━━━━━━━━━━━━━━━━━━━━\u001b[0m\u001b[37m\u001b[0m \u001b[1m0s\u001b[0m 3ms/step - loss: 35633.2148 - root_mean_squared_error: 44518.1250 - val_loss: 52969.7695 - val_root_mean_squared_error: 64832.8086\n",
      "Epoch 40/100\n",
      "\u001b[1m25/25\u001b[0m \u001b[32m━━━━━━━━━━━━━━━━━━━━\u001b[0m\u001b[37m\u001b[0m \u001b[1m0s\u001b[0m 3ms/step - loss: 38765.5234 - root_mean_squared_error: 48940.3867 - val_loss: 55858.3867 - val_root_mean_squared_error: 68801.2969\n",
      "Epoch 41/100\n",
      "\u001b[1m25/25\u001b[0m \u001b[32m━━━━━━━━━━━━━━━━━━━━\u001b[0m\u001b[37m\u001b[0m \u001b[1m0s\u001b[0m 3ms/step - loss: 40542.2773 - root_mean_squared_error: 50489.0742 - val_loss: 44150.2891 - val_root_mean_squared_error: 53975.5234\n",
      "Epoch 42/100\n",
      "\u001b[1m25/25\u001b[0m \u001b[32m━━━━━━━━━━━━━━━━━━━━\u001b[0m\u001b[37m\u001b[0m \u001b[1m0s\u001b[0m 4ms/step - loss: 35561.8359 - root_mean_squared_error: 44215.0000 - val_loss: 43302.5508 - val_root_mean_squared_error: 52783.3906\n",
      "Epoch 43/100\n",
      "\u001b[1m25/25\u001b[0m \u001b[32m━━━━━━━━━━━━━━━━━━━━\u001b[0m\u001b[37m\u001b[0m \u001b[1m0s\u001b[0m 3ms/step - loss: 34226.8867 - root_mean_squared_error: 42790.4727 - val_loss: 45148.6953 - val_root_mean_squared_error: 55061.6016\n",
      "Epoch 44/100\n",
      "\u001b[1m25/25\u001b[0m \u001b[32m━━━━━━━━━━━━━━━━━━━━\u001b[0m\u001b[37m\u001b[0m \u001b[1m0s\u001b[0m 3ms/step - loss: 35501.0117 - root_mean_squared_error: 44506.5156 - val_loss: 53288.8164 - val_root_mean_squared_error: 65207.2930\n",
      "Epoch 45/100\n",
      "\u001b[1m25/25\u001b[0m \u001b[32m━━━━━━━━━━━━━━━━━━━━\u001b[0m\u001b[37m\u001b[0m \u001b[1m0s\u001b[0m 3ms/step - loss: 36045.4453 - root_mean_squared_error: 44764.4883 - val_loss: 43248.3203 - val_root_mean_squared_error: 53416.5898\n",
      "Epoch 46/100\n",
      "\u001b[1m25/25\u001b[0m \u001b[32m━━━━━━━━━━━━━━━━━━━━\u001b[0m\u001b[37m\u001b[0m \u001b[1m0s\u001b[0m 3ms/step - loss: 35271.3750 - root_mean_squared_error: 44763.4180 - val_loss: 58286.5898 - val_root_mean_squared_error: 72889.5156\n",
      "Epoch 47/100\n",
      "\u001b[1m25/25\u001b[0m \u001b[32m━━━━━━━━━━━━━━━━━━━━\u001b[0m\u001b[37m\u001b[0m \u001b[1m0s\u001b[0m 3ms/step - loss: 38506.4766 - root_mean_squared_error: 47912.0898 - val_loss: 48091.0898 - val_root_mean_squared_error: 58175.2266\n",
      "Epoch 48/100\n",
      "\u001b[1m25/25\u001b[0m \u001b[32m━━━━━━━━━━━━━━━━━━━━\u001b[0m\u001b[37m\u001b[0m \u001b[1m0s\u001b[0m 5ms/step - loss: 36285.3281 - root_mean_squared_error: 45765.9414 - val_loss: 49842.1602 - val_root_mean_squared_error: 60025.0430\n",
      "Epoch 49/100\n",
      "\u001b[1m25/25\u001b[0m \u001b[32m━━━━━━━━━━━━━━━━━━━━\u001b[0m\u001b[37m\u001b[0m \u001b[1m0s\u001b[0m 3ms/step - loss: 36762.3867 - root_mean_squared_error: 46270.3242 - val_loss: 46470.3398 - val_root_mean_squared_error: 56810.7422\n",
      "Epoch 50/100\n",
      "\u001b[1m25/25\u001b[0m \u001b[32m━━━━━━━━━━━━━━━━━━━━\u001b[0m\u001b[37m\u001b[0m \u001b[1m0s\u001b[0m 3ms/step - loss: 34753.1289 - root_mean_squared_error: 43862.5547 - val_loss: 46626.4883 - val_root_mean_squared_error: 57274.5938\n",
      "Epoch 51/100\n",
      "\u001b[1m25/25\u001b[0m \u001b[32m━━━━━━━━━━━━━━━━━━━━\u001b[0m\u001b[37m\u001b[0m \u001b[1m0s\u001b[0m 3ms/step - loss: 35721.0703 - root_mean_squared_error: 44765.2148 - val_loss: 42210.5117 - val_root_mean_squared_error: 53073.3281\n",
      "Epoch 52/100\n",
      "\u001b[1m25/25\u001b[0m \u001b[32m━━━━━━━━━━━━━━━━━━━━\u001b[0m\u001b[37m\u001b[0m \u001b[1m0s\u001b[0m 3ms/step - loss: 35792.3750 - root_mean_squared_error: 45378.5977 - val_loss: 45316.7109 - val_root_mean_squared_error: 58929.8789\n",
      "Epoch 53/100\n",
      "\u001b[1m25/25\u001b[0m \u001b[32m━━━━━━━━━━━━━━━━━━━━\u001b[0m\u001b[37m\u001b[0m \u001b[1m0s\u001b[0m 3ms/step - loss: 38559.9727 - root_mean_squared_error: 48904.4805 - val_loss: 41724.9531 - val_root_mean_squared_error: 51864.2773\n",
      "Epoch 54/100\n",
      "\u001b[1m25/25\u001b[0m \u001b[32m━━━━━━━━━━━━━━━━━━━━\u001b[0m\u001b[37m\u001b[0m \u001b[1m0s\u001b[0m 3ms/step - loss: 36606.5039 - root_mean_squared_error: 46704.7969 - val_loss: 48244.8984 - val_root_mean_squared_error: 58678.1523\n",
      "Epoch 55/100\n",
      "\u001b[1m25/25\u001b[0m \u001b[32m━━━━━━━━━━━━━━━━━━━━\u001b[0m\u001b[37m\u001b[0m \u001b[1m0s\u001b[0m 3ms/step - loss: 37115.3047 - root_mean_squared_error: 46600.5430 - val_loss: 43277.0508 - val_root_mean_squared_error: 52923.6172\n",
      "Epoch 56/100\n",
      "\u001b[1m25/25\u001b[0m \u001b[32m━━━━━━━━━━━━━━━━━━━━\u001b[0m\u001b[37m\u001b[0m \u001b[1m0s\u001b[0m 3ms/step - loss: 34150.0508 - root_mean_squared_error: 43235.6719 - val_loss: 50738.4648 - val_root_mean_squared_error: 61518.5703\n",
      "Epoch 57/100\n",
      "\u001b[1m25/25\u001b[0m \u001b[32m━━━━━━━━━━━━━━━━━━━━\u001b[0m\u001b[37m\u001b[0m \u001b[1m0s\u001b[0m 3ms/step - loss: 35409.1445 - root_mean_squared_error: 44579.0117 - val_loss: 47678.6016 - val_root_mean_squared_error: 58150.1602\n",
      "Epoch 58/100\n",
      "\u001b[1m25/25\u001b[0m \u001b[32m━━━━━━━━━━━━━━━━━━━━\u001b[0m\u001b[37m\u001b[0m \u001b[1m0s\u001b[0m 3ms/step - loss: 37316.5391 - root_mean_squared_error: 47105.8164 - val_loss: 42508.9102 - val_root_mean_squared_error: 53412.1953\n",
      "Epoch 59/100\n",
      "\u001b[1m25/25\u001b[0m \u001b[32m━━━━━━━━━━━━━━━━━━━━\u001b[0m\u001b[37m\u001b[0m \u001b[1m0s\u001b[0m 3ms/step - loss: 34413.8438 - root_mean_squared_error: 43645.2188 - val_loss: 41027.9141 - val_root_mean_squared_error: 52040.2930\n",
      "Epoch 60/100\n",
      "\u001b[1m25/25\u001b[0m \u001b[32m━━━━━━━━━━━━━━━━━━━━\u001b[0m\u001b[37m\u001b[0m \u001b[1m0s\u001b[0m 4ms/step - loss: 35779.9609 - root_mean_squared_error: 44735.3438 - val_loss: 40292.5586 - val_root_mean_squared_error: 52437.5586\n",
      "Epoch 61/100\n",
      "\u001b[1m25/25\u001b[0m \u001b[32m━━━━━━━━━━━━━━━━━━━━\u001b[0m\u001b[37m\u001b[0m \u001b[1m0s\u001b[0m 3ms/step - loss: 37358.5273 - root_mean_squared_error: 47510.3242 - val_loss: 46593.3594 - val_root_mean_squared_error: 56559.9258\n",
      "Epoch 62/100\n",
      "\u001b[1m25/25\u001b[0m \u001b[32m━━━━━━━━━━━━━━━━━━━━\u001b[0m\u001b[37m\u001b[0m \u001b[1m0s\u001b[0m 3ms/step - loss: 36526.0039 - root_mean_squared_error: 45585.6758 - val_loss: 45721.4258 - val_root_mean_squared_error: 55889.1484\n",
      "Epoch 63/100\n",
      "\u001b[1m25/25\u001b[0m \u001b[32m━━━━━━━━━━━━━━━━━━━━\u001b[0m\u001b[37m\u001b[0m \u001b[1m0s\u001b[0m 3ms/step - loss: 33092.1289 - root_mean_squared_error: 41803.2969 - val_loss: 46080.1133 - val_root_mean_squared_error: 56150.6758\n",
      "Epoch 64/100\n",
      "\u001b[1m25/25\u001b[0m \u001b[32m━━━━━━━━━━━━━━━━━━━━\u001b[0m\u001b[37m\u001b[0m \u001b[1m0s\u001b[0m 3ms/step - loss: 36273.1797 - root_mean_squared_error: 45101.5664 - val_loss: 46999.6797 - val_root_mean_squared_error: 57522.4102\n",
      "Epoch 65/100\n",
      "\u001b[1m25/25\u001b[0m \u001b[32m━━━━━━━━━━━━━━━━━━━━\u001b[0m\u001b[37m\u001b[0m \u001b[1m0s\u001b[0m 3ms/step - loss: 33772.8984 - root_mean_squared_error: 43461.0312 - val_loss: 49365.7812 - val_root_mean_squared_error: 60483.1562\n",
      "Epoch 66/100\n",
      "\u001b[1m25/25\u001b[0m \u001b[32m━━━━━━━━━━━━━━━━━━━━\u001b[0m\u001b[37m\u001b[0m \u001b[1m0s\u001b[0m 3ms/step - loss: 33926.8711 - root_mean_squared_error: 43687.0312 - val_loss: 49351.3711 - val_root_mean_squared_error: 59908.1094\n",
      "Epoch 67/100\n",
      "\u001b[1m25/25\u001b[0m \u001b[32m━━━━━━━━━━━━━━━━━━━━\u001b[0m\u001b[37m\u001b[0m \u001b[1m0s\u001b[0m 3ms/step - loss: 33445.8789 - root_mean_squared_error: 42971.7773 - val_loss: 51049.4453 - val_root_mean_squared_error: 63083.1445\n",
      "Epoch 68/100\n",
      "\u001b[1m25/25\u001b[0m \u001b[32m━━━━━━━━━━━━━━━━━━━━\u001b[0m\u001b[37m\u001b[0m \u001b[1m0s\u001b[0m 3ms/step - loss: 36013.4141 - root_mean_squared_error: 45595.5078 - val_loss: 45764.4492 - val_root_mean_squared_error: 56784.2695\n",
      "Epoch 69/100\n",
      "\u001b[1m25/25\u001b[0m \u001b[32m━━━━━━━━━━━━━━━━━━━━\u001b[0m\u001b[37m\u001b[0m \u001b[1m0s\u001b[0m 4ms/step - loss: 32930.6875 - root_mean_squared_error: 42227.5508 - val_loss: 45909.4688 - val_root_mean_squared_error: 56155.6055\n",
      "Epoch 70/100\n",
      "\u001b[1m25/25\u001b[0m \u001b[32m━━━━━━━━━━━━━━━━━━━━\u001b[0m\u001b[37m\u001b[0m \u001b[1m0s\u001b[0m 3ms/step - loss: 33687.6953 - root_mean_squared_error: 42942.7109 - val_loss: 46135.8281 - val_root_mean_squared_error: 56428.3867\n",
      "Epoch 71/100\n",
      "\u001b[1m25/25\u001b[0m \u001b[32m━━━━━━━━━━━━━━━━━━━━\u001b[0m\u001b[37m\u001b[0m \u001b[1m0s\u001b[0m 3ms/step - loss: 31020.9473 - root_mean_squared_error: 39760.6875 - val_loss: 44151.4961 - val_root_mean_squared_error: 54347.2695\n",
      "Epoch 72/100\n",
      "\u001b[1m25/25\u001b[0m \u001b[32m━━━━━━━━━━━━━━━━━━━━\u001b[0m\u001b[37m\u001b[0m \u001b[1m0s\u001b[0m 3ms/step - loss: 33121.9102 - root_mean_squared_error: 42181.6602 - val_loss: 53706.2031 - val_root_mean_squared_error: 65273.1367\n",
      "Epoch 73/100\n",
      "\u001b[1m25/25\u001b[0m \u001b[32m━━━━━━━━━━━━━━━━━━━━\u001b[0m\u001b[37m\u001b[0m \u001b[1m0s\u001b[0m 3ms/step - loss: 33872.7109 - root_mean_squared_error: 43551.2539 - val_loss: 48220.6953 - val_root_mean_squared_error: 58545.3711\n",
      "Epoch 74/100\n",
      "\u001b[1m25/25\u001b[0m \u001b[32m━━━━━━━━━━━━━━━━━━━━\u001b[0m\u001b[37m\u001b[0m \u001b[1m0s\u001b[0m 3ms/step - loss: 31255.7324 - root_mean_squared_error: 40227.2070 - val_loss: 42648.8281 - val_root_mean_squared_error: 53587.2891\n",
      "Epoch 75/100\n",
      "\u001b[1m25/25\u001b[0m \u001b[32m━━━━━━━━━━━━━━━━━━━━\u001b[0m\u001b[37m\u001b[0m \u001b[1m0s\u001b[0m 3ms/step - loss: 33714.2500 - root_mean_squared_error: 43247.4258 - val_loss: 45830.7500 - val_root_mean_squared_error: 59819.4844\n",
      "Epoch 76/100\n",
      "\u001b[1m25/25\u001b[0m \u001b[32m━━━━━━━━━━━━━━━━━━━━\u001b[0m\u001b[37m\u001b[0m \u001b[1m0s\u001b[0m 3ms/step - loss: 36076.1953 - root_mean_squared_error: 46156.8242 - val_loss: 42349.8555 - val_root_mean_squared_error: 54141.0156\n",
      "Epoch 77/100\n",
      "\u001b[1m25/25\u001b[0m \u001b[32m━━━━━━━━━━━━━━━━━━━━\u001b[0m\u001b[37m\u001b[0m \u001b[1m0s\u001b[0m 3ms/step - loss: 33650.1133 - root_mean_squared_error: 43478.0703 - val_loss: 47713.0469 - val_root_mean_squared_error: 57794.0469\n",
      "Epoch 78/100\n",
      "\u001b[1m25/25\u001b[0m \u001b[32m━━━━━━━━━━━━━━━━━━━━\u001b[0m\u001b[37m\u001b[0m \u001b[1m0s\u001b[0m 3ms/step - loss: 33212.4102 - root_mean_squared_error: 43254.1758 - val_loss: 48287.6367 - val_root_mean_squared_error: 58530.1055\n",
      "Epoch 79/100\n",
      "\u001b[1m25/25\u001b[0m \u001b[32m━━━━━━━━━━━━━━━━━━━━\u001b[0m\u001b[37m\u001b[0m \u001b[1m0s\u001b[0m 3ms/step - loss: 32649.4453 - root_mean_squared_error: 42098.3711 - val_loss: 47334.1289 - val_root_mean_squared_error: 57938.0586\n",
      "Epoch 80/100\n",
      "\u001b[1m25/25\u001b[0m \u001b[32m━━━━━━━━━━━━━━━━━━━━\u001b[0m\u001b[37m\u001b[0m \u001b[1m0s\u001b[0m 3ms/step - loss: 30803.3340 - root_mean_squared_error: 40994.8203 - val_loss: 46980.8984 - val_root_mean_squared_error: 56775.2930\n",
      "Epoch 81/100\n",
      "\u001b[1m25/25\u001b[0m \u001b[32m━━━━━━━━━━━━━━━━━━━━\u001b[0m\u001b[37m\u001b[0m \u001b[1m0s\u001b[0m 3ms/step - loss: 32056.4082 - root_mean_squared_error: 41775.5273 - val_loss: 54504.4648 - val_root_mean_squared_error: 65310.2578\n",
      "Epoch 82/100\n",
      "\u001b[1m25/25\u001b[0m \u001b[32m━━━━━━━━━━━━━━━━━━━━\u001b[0m\u001b[37m\u001b[0m \u001b[1m0s\u001b[0m 3ms/step - loss: 33992.9531 - root_mean_squared_error: 43329.9688 - val_loss: 46274.2031 - val_root_mean_squared_error: 59306.2148\n",
      "Epoch 83/100\n",
      "\u001b[1m25/25\u001b[0m \u001b[32m━━━━━━━━━━━━━━━━━━━━\u001b[0m\u001b[37m\u001b[0m \u001b[1m0s\u001b[0m 3ms/step - loss: 34450.5273 - root_mean_squared_error: 44190.9141 - val_loss: 44245.3047 - val_root_mean_squared_error: 55022.4375\n",
      "Epoch 84/100\n",
      "\u001b[1m25/25\u001b[0m \u001b[32m━━━━━━━━━━━━━━━━━━━━\u001b[0m\u001b[37m\u001b[0m \u001b[1m0s\u001b[0m 3ms/step - loss: 33084.8711 - root_mean_squared_error: 42129.5391 - val_loss: 44488.4648 - val_root_mean_squared_error: 55160.8047\n",
      "Epoch 85/100\n",
      "\u001b[1m25/25\u001b[0m \u001b[32m━━━━━━━━━━━━━━━━━━━━\u001b[0m\u001b[37m\u001b[0m \u001b[1m0s\u001b[0m 3ms/step - loss: 31112.4336 - root_mean_squared_error: 40830.4062 - val_loss: 43920.0508 - val_root_mean_squared_error: 54996.5508\n",
      "Epoch 86/100\n",
      "\u001b[1m25/25\u001b[0m \u001b[32m━━━━━━━━━━━━━━━━━━━━\u001b[0m\u001b[37m\u001b[0m \u001b[1m0s\u001b[0m 3ms/step - loss: 32549.5195 - root_mean_squared_error: 42464.5547 - val_loss: 43814.1719 - val_root_mean_squared_error: 53731.1914\n",
      "Epoch 87/100\n",
      "\u001b[1m25/25\u001b[0m \u001b[32m━━━━━━━━━━━━━━━━━━━━\u001b[0m\u001b[37m\u001b[0m \u001b[1m0s\u001b[0m 3ms/step - loss: 34368.1758 - root_mean_squared_error: 44429.0234 - val_loss: 45432.1016 - val_root_mean_squared_error: 56582.0000\n",
      "Epoch 88/100\n",
      "\u001b[1m25/25\u001b[0m \u001b[32m━━━━━━━━━━━━━━━━━━━━\u001b[0m\u001b[37m\u001b[0m \u001b[1m0s\u001b[0m 3ms/step - loss: 35940.0195 - root_mean_squared_error: 45956.2266 - val_loss: 45609.6992 - val_root_mean_squared_error: 56048.1758\n",
      "Epoch 89/100\n",
      "\u001b[1m25/25\u001b[0m \u001b[32m━━━━━━━━━━━━━━━━━━━━\u001b[0m\u001b[37m\u001b[0m \u001b[1m0s\u001b[0m 3ms/step - loss: 34799.9453 - root_mean_squared_error: 44945.6680 - val_loss: 45504.7812 - val_root_mean_squared_error: 56103.9219\n",
      "Epoch 90/100\n",
      "\u001b[1m25/25\u001b[0m \u001b[32m━━━━━━━━━━━━━━━━━━━━\u001b[0m\u001b[37m\u001b[0m \u001b[1m0s\u001b[0m 5ms/step - loss: 33985.2617 - root_mean_squared_error: 44124.2773 - val_loss: 44554.7695 - val_root_mean_squared_error: 54408.8906\n",
      "Epoch 91/100\n",
      "\u001b[1m25/25\u001b[0m \u001b[32m━━━━━━━━━━━━━━━━━━━━\u001b[0m\u001b[37m\u001b[0m \u001b[1m0s\u001b[0m 3ms/step - loss: 31867.9336 - root_mean_squared_error: 41999.8711 - val_loss: 47559.6562 - val_root_mean_squared_error: 56400.8281\n",
      "Epoch 92/100\n",
      "\u001b[1m25/25\u001b[0m \u001b[32m━━━━━━━━━━━━━━━━━━━━\u001b[0m\u001b[37m\u001b[0m \u001b[1m0s\u001b[0m 3ms/step - loss: 34836.7500 - root_mean_squared_error: 44353.8594 - val_loss: 45757.7148 - val_root_mean_squared_error: 57410.8164\n",
      "Epoch 93/100\n",
      "\u001b[1m25/25\u001b[0m \u001b[32m━━━━━━━━━━━━━━━━━━━━\u001b[0m\u001b[37m\u001b[0m \u001b[1m0s\u001b[0m 3ms/step - loss: 35857.9688 - root_mean_squared_error: 47173.0117 - val_loss: 48950.9883 - val_root_mean_squared_error: 59722.8633\n",
      "Epoch 94/100\n",
      "\u001b[1m25/25\u001b[0m \u001b[32m━━━━━━━━━━━━━━━━━━━━\u001b[0m\u001b[37m\u001b[0m \u001b[1m0s\u001b[0m 3ms/step - loss: 33083.4023 - root_mean_squared_error: 42751.1172 - val_loss: 49153.1211 - val_root_mean_squared_error: 59088.1719\n",
      "Epoch 95/100\n",
      "\u001b[1m25/25\u001b[0m \u001b[32m━━━━━━━━━━━━━━━━━━━━\u001b[0m\u001b[37m\u001b[0m \u001b[1m0s\u001b[0m 3ms/step - loss: 34627.6016 - root_mean_squared_error: 44724.7422 - val_loss: 56518.6797 - val_root_mean_squared_error: 66473.7734\n",
      "Epoch 96/100\n",
      "\u001b[1m25/25\u001b[0m \u001b[32m━━━━━━━━━━━━━━━━━━━━\u001b[0m\u001b[37m\u001b[0m \u001b[1m0s\u001b[0m 3ms/step - loss: 36739.5234 - root_mean_squared_error: 46228.0703 - val_loss: 67587.4219 - val_root_mean_squared_error: 80313.8203\n",
      "Epoch 97/100\n",
      "\u001b[1m25/25\u001b[0m \u001b[32m━━━━━━━━━━━━━━━━━━━━\u001b[0m\u001b[37m\u001b[0m \u001b[1m0s\u001b[0m 3ms/step - loss: 40266.2461 - root_mean_squared_error: 50142.3008 - val_loss: 53373.1719 - val_root_mean_squared_error: 63520.8438\n",
      "Epoch 98/100\n",
      "\u001b[1m25/25\u001b[0m \u001b[32m━━━━━━━━━━━━━━━━━━━━\u001b[0m\u001b[37m\u001b[0m \u001b[1m0s\u001b[0m 3ms/step - loss: 32617.7461 - root_mean_squared_error: 41194.0391 - val_loss: 52288.8633 - val_root_mean_squared_error: 61792.8125\n",
      "Epoch 99/100\n",
      "\u001b[1m25/25\u001b[0m \u001b[32m━━━━━━━━━━━━━━━━━━━━\u001b[0m\u001b[37m\u001b[0m \u001b[1m0s\u001b[0m 3ms/step - loss: 33357.1484 - root_mean_squared_error: 42458.9766 - val_loss: 53694.0742 - val_root_mean_squared_error: 63895.9805\n",
      "Epoch 100/100\n",
      "\u001b[1m25/25\u001b[0m \u001b[32m━━━━━━━━━━━━━━━━━━━━\u001b[0m\u001b[37m\u001b[0m \u001b[1m0s\u001b[0m 3ms/step - loss: 31853.2598 - root_mean_squared_error: 41347.7578 - val_loss: 45910.6055 - val_root_mean_squared_error: 56753.5547\n"
     ]
    }
   ],
   "source": [
    "history = model.fit(train_dataset, validation_data=val_dataset, epochs = 100, verbose = 1)"
   ]
  },
  {
   "cell_type": "code",
   "execution_count": 34,
   "metadata": {
    "colab": {
     "base_uri": "https://localhost:8080/",
     "height": 472
    },
    "id": "1M8EMLpFEjcE",
    "outputId": "c5b090f6-c2df-4754-f1e0-a521165adeb4"
   },
   "outputs": [
    {
     "data": {
      "image/png": "[encoded data removed]",
      "text/plain": [
       "<Figure size 640x480 with 1 Axes>"
      ]
     },
     "metadata": {},
     "output_type": "display_data"
    }
   ],
   "source": [
    "\n",
    "plt.plot(history.history['loss'])\n",
    "plt.plot(history.history['val_loss'])\n",
    "plt.title('model loss')\n",
    "plt.ylabel('loss')\n",
    "plt.xlabel('epoch')\n",
    "plt.legend(['train', 'val_loss'])\n",
    "plt.show()"
   ]
  },
  {
   "cell_type": "code",
   "execution_count": 35,
   "metadata": {
    "colab": {
     "base_uri": "https://localhost:8080/",
     "height": 472
    },
    "id": "b3PUS8Y_-2Qv",
    "outputId": "1357e8ec-7a64-4ed1-c839-9337f9e74bdb"
   },
   "outputs": [
    {
     "data": {
      "image/png": "[encoded data removed]",
      "text/plain": [
       "<Figure size 640x480 with 1 Axes>"
      ]
     },
     "metadata": {},
     "output_type": "display_data"
    }
   ],
   "source": [
    "\n",
    "plt.plot(history.history['root_mean_squared_error'])\n",
    "plt.plot(history.history['val_root_mean_squared_error'])\n",
    "plt.title('model performance')\n",
    "plt.ylabel('rmse')\n",
    "plt.xlabel('epoch')\n",
    "plt.legend(['train', 'val'])\n",
    "plt.show()\n"
   ]
  },
  {
   "cell_type": "markdown",
   "metadata": {
    "id": "ww2AanlE_D70"
   },
   "source": [
    "#Model Evaluation and Testing"
   ]
  },
  {
   "cell_type": "code",
   "execution_count": 36,
   "metadata": {
    "colab": {
     "base_uri": "https://localhost:8080/"
    },
    "id": "P9P6Ux0J_Dyb",
    "outputId": "ed9bb33a-67ff-40de-9aaf-05fa97a144e6"
   },
   "outputs": [
    {
     "name": "stdout",
     "output_type": "stream",
     "text": [
      "\u001b[1m4/4\u001b[0m \u001b[32m━━━━━━━━━━━━━━━━━━━━\u001b[0m\u001b[37m\u001b[0m \u001b[1m0s\u001b[0m 5ms/step - loss: 37683.6562 - root_mean_squared_error: 46728.0078\n"
     ]
    },
    {
     "data": {
      "text/plain": [
       "[37771.14453125, 46365.21484375]"
      ]
     },
     "execution_count": 36,
     "metadata": {},
     "output_type": "execute_result"
    }
   ],
   "source": [
    "model.evaluate(X_test,y_test)"
   ]
  },
  {
   "cell_type": "code",
   "execution_count": 37,
   "metadata": {
    "colab": {
     "base_uri": "https://localhost:8080/"
    },
    "id": "D58XSB5b_MXm",
    "outputId": "835a8506-54c4-4449-88e4-90c84fbec4a3"
   },
   "outputs": [
    {
     "data": {
      "text/plain": [
       "TensorShape([100, 8])"
      ]
     },
     "execution_count": 37,
     "metadata": {},
     "output_type": "execute_result"
    }
   ],
   "source": [
    "X_test.shape\n"
   ]
  },
  {
   "cell_type": "code",
   "execution_count": 38,
   "metadata": {
    "colab": {
     "base_uri": "https://localhost:8080/"
    },
    "id": "_NlTF1ky_N8E",
    "outputId": "5d39ebdc-c586-4a6b-8304-928e4ce552d7"
   },
   "outputs": [
    {
     "name": "stdout",
     "output_type": "stream",
     "text": [
      "\u001b[1m1/1\u001b[0m \u001b[32m━━━━━━━━━━━━━━━━━━━━\u001b[0m\u001b[37m\u001b[0m \u001b[1m0s\u001b[0m 94ms/step\n"
     ]
    },
    {
     "data": {
      "text/plain": [
       "array([[496412.44]], dtype=float32)"
      ]
     },
     "execution_count": 38,
     "metadata": {},
     "output_type": "execute_result"
    }
   ],
   "source": [
    "model.predict(tf.expand_dims(X_test[0], axis = 0 ))"
   ]
  },
  {
   "cell_type": "code",
   "execution_count": 39,
   "metadata": {
    "id": "XkxHjqDf_Wdw"
   },
   "outputs": [],
   "source": [
    "y_true = list(y_test[:,0].numpy())"
   ]
  },
  {
   "cell_type": "code",
   "execution_count": 40,
   "metadata": {
    "colab": {
     "base_uri": "https://localhost:8080/"
    },
    "id": "1ALqWoz7_aOg",
    "outputId": "75222fe4-f10b-4bdb-f8cb-8fab5e80b159"
   },
   "outputs": [
    {
     "name": "stdout",
     "output_type": "stream",
     "text": [
      "\u001b[1m4/4\u001b[0m \u001b[32m━━━━━━━━━━━━━━━━━━━━\u001b[0m\u001b[37m\u001b[0m \u001b[1m0s\u001b[0m 3ms/step \n",
      "[496412.4, 302860.44, 227029.81, 146865.42, 417529.94, 477725.9, 190173.08, 188569.42, 133746.58, 472364.22, 465886.4, 385033.16, 330045.78, 407405.53, 393482.97, 203858.33, 338560.1, 163655.86, 404315.38, 492272.53, 278696.6, 243870.86, 291729.03, 134226.64, 304813.0, 212193.3, 421662.47, 347165.25, 215263.92, 400499.66, 169760.86, 131320.58, 411802.5, 173831.25, 136950.67, 327558.25, 258570.95, 254854.75, 485218.97, 165386.03, 280686.5, 327006.5, 396957.6, 306559.34, 428640.8, 518392.34, 343824.44, 393111.03, 343673.47, 506064.1, 370685.06, 469343.97, 198686.64, 300275.97, 206083.98, 464634.75, 488067.72, 317288.66, 353239.78, 487293.34, 134342.14, 479033.03, 182114.14, 469548.47, 118735.836, 203274.36, 288509.44, 524317.8, 166485.77, 261985.55, 213950.78, 441679.1, 176417.33, 360098.1, 110850.125, 167029.6, 188773.14, 269732.16, 127274.59, 50115.86, 98066.625, 438984.25, 496846.75, 177496.66, 398293.34, 298347.1, 282375.88, 251097.08, 454916.1, 452874.16, 360716.97, 291022.8, 206095.69, 402151.56, 506770.66, 196025.0, 120369.17, 481785.6, 120123.61, 367207.3]\n"
     ]
    }
   ],
   "source": [
    "y_pred = list(model.predict(X_test)[:,0])\n",
    "print(y_pred)"
   ]
  },
  {
   "cell_type": "code",
   "execution_count": 41,
   "metadata": {
    "colab": {
     "base_uri": "https://localhost:8080/",
     "height": 725
    },
    "id": "GXTAAO80_gcR",
    "outputId": "e818f24b-6713-41a7-e725-e26d942604f5"
   },
   "outputs": [
    {
     "data": {
      "image/png": "[encoded data removed]",
      "text/plain": [
       "<Figure size 4000x2000 with 1 Axes>"
      ]
     },
     "metadata": {},
     "output_type": "display_data"
    }
   ],
   "source": [
    "ind = np.arange(100)\n",
    "plt.figure(figsize=(40,20))\n",
    "\n",
    "width = 0.1\n",
    "\n",
    "plt.bar(ind, y_pred, width, label='Predicted Car Price')\n",
    "plt.bar(ind + width, y_true, width, label='Actual Car Price')\n",
    "\n",
    "plt.xlabel('Actual vs Predicted Prices')\n",
    "plt.ylabel('Car Price Prices')\n",
    "\n",
    "plt.show()"
   ]
  },
  {
   "cell_type": "code",
   "execution_count": 42,
   "metadata": {
    "colab": {
     "base_uri": "https://localhost:8080/",
     "height": 564
    },
    "id": "5mdJq5FoLuVq",
    "outputId": "077171e2-8254-42cd-8fec-f9da517824e1"
   },
   "outputs": [
    {
     "data": {
      "image/png": "[encoded data removed]",
      "text/plain": [
       "<Figure size 800x600 with 1 Axes>"
      ]
     },
     "metadata": {},
     "output_type": "display_data"
    }
   ],
   "source": [
    "plt.figure(figsize=(8, 6))\n",
    "plt.scatter(y_true, y_pred, alpha=0.6)\n",
    "plt.title('Scatter Plot of True vs Predicted Values')\n",
    "plt.xlabel('True Values')\n",
    "plt.ylabel('Predicted Values')\n",
    "plt.plot([min(y_true), max(y_true)], [min(y_true), max(y_true)], color='red', linestyle='--')  # Diagonal line\n",
    "plt.grid(True)\n",
    "plt.axis('equal')  # Ensures that the x and y axes are scaled equally\n",
    "plt.show()"
   ]
  },
  {
   "cell_type": "code",
   "execution_count": 43,
   "metadata": {
    "colab": {
     "base_uri": "https://localhost:8080/"
    },
    "id": "hLxpGhVj_dcB",
    "outputId": "40f7d8e7-e6d2-4320-e3b6-246f27b57878"
   },
   "outputs": [
    {
     "name": "stdout",
     "output_type": "stream",
     "text": [
      "Mean Absolute Error (MAE): 37771.14453125\n",
      "Mean Squared Error (MSE): 2149733376.0\n",
      "Root Mean Squared Error (RMSE): 2149733376.0\n",
      "R-squared (R²): 0.8757674933559347\n"
     ]
    }
   ],
   "source": [
    "\n",
    "\n",
    "mae = mean_absolute_error(y_true, y_pred)\n",
    "mse = mean_squared_error(y_true, y_pred)\n",
    "rmse = mean_squared_error(y_true, y_pred)\n",
    "r2 = r2_score(y_true, y_pred)\n",
    "\n",
    "# Output the results\n",
    "print(f\"Mean Absolute Error (MAE): {mae}\")\n",
    "print(f\"Mean Squared Error (MSE): {mse}\")\n",
    "print(f\"Root Mean Squared Error (RMSE): {rmse}\")\n",
    "print(f\"R-squared (R²): {r2}\")"
   ]
  },
  {
   "cell_type": "code",
   "execution_count": 44,
   "metadata": {
    "colab": {
     "base_uri": "https://localhost:8080/"
    },
    "id": "cUnGARTAAkTU",
    "outputId": "793dee5b-63a5-4212-ecba-95bc8d1a9e29"
   },
   "outputs": [
    {
     "name": "stdout",
     "output_type": "stream",
     "text": [
      "\u001b[1m25/25\u001b[0m \u001b[32m━━━━━━━━━━━━━━━━━━━━\u001b[0m\u001b[37m\u001b[0m \u001b[1m0s\u001b[0m 1ms/step \n"
     ]
    }
   ],
   "source": [
    "y_train_pred = model.predict(X_train)"
   ]
  },
  {
   "cell_type": "code",
   "execution_count": 45,
   "metadata": {
    "id": "w2FCrh9BBcPg"
   },
   "outputs": [],
   "source": [
    "y_train = list(y_train.numpy())  # Convert y_train to a list if it's a tensor\n",
    "y_train_pred = list(y_train_pred[:, 0])  # Convert predictions to a list"
   ]
  },
  {
   "cell_type": "code",
   "execution_count": 46,
   "metadata": {
    "colab": {
     "base_uri": "https://localhost:8080/"
    },
    "id": "c6oBPz1yBfzA",
    "outputId": "09e25ec2-8ab7-4bb0-a947-eff04e499261"
   },
   "outputs": [
    {
     "name": "stdout",
     "output_type": "stream",
     "text": [
      "Mean Absolute Error (MAE) on Training Data: 30393.494140625\n",
      "Mean Squared Error (MSE) on Training Data: 1499162496.0\n",
      "Root Mean Squared Error (RMSE) on Training Data: 38719.01953125\n",
      "R-squared (R²) on Training Data: 0.9032560543278877\n"
     ]
    },
    {
     "name": "stderr",
     "output_type": "stream",
     "text": [
      "c:\\Users\\Jihed B\\Desktop\\DLRL\\deepL\\Lib\\site-packages\\sklearn\\metrics\\_regression.py:492: FutureWarning: 'squared' is deprecated in version 1.4 and will be removed in 1.6. To calculate the root mean squared error, use the function'root_mean_squared_error'.\n",
      "  warnings.warn(\n"
     ]
    }
   ],
   "source": [
    "mae_train = mean_absolute_error(y_train, y_train_pred)\n",
    "mse_train = mean_squared_error(y_train, y_train_pred)\n",
    "rmse_train = mean_squared_error(y_train, y_train_pred, squared=False)  # RMSE\n",
    "r2_train = r2_score(y_train, y_train_pred)\n",
    "\n",
    "# Output the results for training data\n",
    "print(f\"Mean Absolute Error (MAE) on Training Data: {mae_train}\")\n",
    "print(f\"Mean Squared Error (MSE) on Training Data: {mse_train}\")\n",
    "print(f\"Root Mean Squared Error (RMSE) on Training Data: {rmse_train}\")\n",
    "print(f\"R-squared (R²) on Training Data: {r2_train}\")"
   ]
  },
  {
   "cell_type": "code",
   "execution_count": 47,
   "metadata": {},
   "outputs": [],
   "source": [
    "model.save('Deep.keras')"
   ]
  }
 ],
 "metadata": {
  "colab": {
   "provenance": []
  },
  "kernelspec": {
   "display_name": "deepL",
   "language": "python",
   "name": "python3"
  },
  "language_info": {
   "codemirror_mode": {
    "name": "ipython",
    "version": 3
   },
   "file_extension": ".py",
   "mimetype": "text/x-python",
   "name": "python",
   "nbconvert_exporter": "python",
   "pygments_lexer": "ipython3",
   "version": "3.12.4"
  }
 },
 "nbformat": 4,
 "nbformat_minor": 0
}
